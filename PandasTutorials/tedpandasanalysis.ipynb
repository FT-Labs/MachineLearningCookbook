{
 "cells": [
  {
   "cell_type": "code",
   "execution_count": 41,
   "metadata": {
    "collapsed": true
   },
   "outputs": [
    {
     "data": {
      "text/plain": "'1.1.1'"
     },
     "execution_count": 41,
     "metadata": {},
     "output_type": "execute_result"
    }
   ],
   "source": [
    "import pandas as pd\n",
    "import seaborn as sns\n",
    "import matplotlib.pyplot as plt\n",
    "\n",
    "params = {\n",
    "    'axes.labelsize': \"large\",\n",
    "    'axes.labelcolor' : 'black',\n",
    "    'xtick.labelsize': 'small',\n",
    "    'xtick.color' : 'black',\n",
    "    'ytick.color' : 'black',\n",
    "    'legend.fontsize': 20,\n",
    "    'figure.dpi': 150,\n",
    "    'axes.titlecolor' : 'black',\n",
    "    'text.color' : 'black',\n",
    "    'figure.figsize' : [15,6],\n",
    "}\n",
    "\n",
    "plt.rcParams.update(params)\n",
    "\n",
    "pd.__version__\n"
   ]
  },
  {
   "cell_type": "markdown",
   "source": [
    "## Ted Talk Analysis By Using Pandas\n",
    "\n",
    "- You can get and download csv files from kaggle."
   ],
   "metadata": {
    "collapsed": false,
    "pycharm": {
     "name": "#%% md\n"
    }
   }
  },
  {
   "cell_type": "code",
   "execution_count": 18,
   "outputs": [
    {
     "data": {
      "text/plain": "   comments                                        description  duration  \\\n0      4553  Sir Ken Robinson makes an entertaining and pro...      1164   \n1       265  With the same humor and humanity he exuded in ...       977   \n2       124  New York Times columnist David Pogue takes aim...      1286   \n3       200  In an emotionally charged talk, MacArthur-winn...      1116   \n4       593  You've never seen data presented like this. Wi...      1190   \n\n     event   film_date  languages   main_speaker  \\\n0  TED2006  1140825600         60   Ken Robinson   \n1  TED2006  1140825600         43        Al Gore   \n2  TED2006  1140739200         26    David Pogue   \n3  TED2006  1140912000         35  Majora Carter   \n4  TED2006  1140566400         48   Hans Rosling   \n\n                                            name  num_speaker  published_date  \\\n0      Ken Robinson: Do schools kill creativity?            1      1151367060   \n1           Al Gore: Averting the climate crisis            1      1151367060   \n2                  David Pogue: Simplicity sells            1      1151367060   \n3             Majora Carter: Greening the ghetto            1      1151367060   \n4  Hans Rosling: The best stats you've ever seen            1      1151440680   \n\n                                             ratings  \\\n0  [{'id': 7, 'name': 'Funny', 'count': 19645}, {...   \n1  [{'id': 7, 'name': 'Funny', 'count': 544}, {'i...   \n2  [{'id': 7, 'name': 'Funny', 'count': 964}, {'i...   \n3  [{'id': 3, 'name': 'Courageous', 'count': 760}...   \n4  [{'id': 9, 'name': 'Ingenious', 'count': 3202}...   \n\n                                       related_talks  \\\n0  [{'id': 865, 'hero': 'https://pe.tedcdn.com/im...   \n1  [{'id': 243, 'hero': 'https://pe.tedcdn.com/im...   \n2  [{'id': 1725, 'hero': 'https://pe.tedcdn.com/i...   \n3  [{'id': 1041, 'hero': 'https://pe.tedcdn.com/i...   \n4  [{'id': 2056, 'hero': 'https://pe.tedcdn.com/i...   \n\n                     speaker_occupation  \\\n0                       Author/educator   \n1                      Climate advocate   \n2                  Technology columnist   \n3    Activist for environmental justice   \n4  Global health expert; data visionary   \n\n                                                tags  \\\n0  ['children', 'creativity', 'culture', 'dance',...   \n1  ['alternative energy', 'cars', 'climate change...   \n2  ['computers', 'entertainment', 'interface desi...   \n3  ['MacArthur grant', 'activism', 'business', 'c...   \n4  ['Africa', 'Asia', 'Google', 'demo', 'economic...   \n\n                             title  \\\n0      Do schools kill creativity?   \n1      Averting the climate crisis   \n2                 Simplicity sells   \n3              Greening the ghetto   \n4  The best stats you've ever seen   \n\n                                                 url     views  \n0  https://www.ted.com/talks/ken_robinson_says_sc...  47227110  \n1  https://www.ted.com/talks/al_gore_on_averting_...   3200520  \n2  https://www.ted.com/talks/david_pogue_says_sim...   1636292  \n3  https://www.ted.com/talks/majora_carter_s_tale...   1697550  \n4  https://www.ted.com/talks/hans_rosling_shows_t...  12005869  ",
      "text/html": "<div>\n<style scoped>\n    .dataframe tbody tr th:only-of-type {\n        vertical-align: middle;\n    }\n\n    .dataframe tbody tr th {\n        vertical-align: top;\n    }\n\n    .dataframe thead th {\n        text-align: right;\n    }\n</style>\n<table border=\"1\" class=\"dataframe\">\n  <thead>\n    <tr style=\"text-align: right;\">\n      <th></th>\n      <th>comments</th>\n      <th>description</th>\n      <th>duration</th>\n      <th>event</th>\n      <th>film_date</th>\n      <th>languages</th>\n      <th>main_speaker</th>\n      <th>name</th>\n      <th>num_speaker</th>\n      <th>published_date</th>\n      <th>ratings</th>\n      <th>related_talks</th>\n      <th>speaker_occupation</th>\n      <th>tags</th>\n      <th>title</th>\n      <th>url</th>\n      <th>views</th>\n    </tr>\n  </thead>\n  <tbody>\n    <tr>\n      <th>0</th>\n      <td>4553</td>\n      <td>Sir Ken Robinson makes an entertaining and pro...</td>\n      <td>1164</td>\n      <td>TED2006</td>\n      <td>1140825600</td>\n      <td>60</td>\n      <td>Ken Robinson</td>\n      <td>Ken Robinson: Do schools kill creativity?</td>\n      <td>1</td>\n      <td>1151367060</td>\n      <td>[{'id': 7, 'name': 'Funny', 'count': 19645}, {...</td>\n      <td>[{'id': 865, 'hero': 'https://pe.tedcdn.com/im...</td>\n      <td>Author/educator</td>\n      <td>['children', 'creativity', 'culture', 'dance',...</td>\n      <td>Do schools kill creativity?</td>\n      <td>https://www.ted.com/talks/ken_robinson_says_sc...</td>\n      <td>47227110</td>\n    </tr>\n    <tr>\n      <th>1</th>\n      <td>265</td>\n      <td>With the same humor and humanity he exuded in ...</td>\n      <td>977</td>\n      <td>TED2006</td>\n      <td>1140825600</td>\n      <td>43</td>\n      <td>Al Gore</td>\n      <td>Al Gore: Averting the climate crisis</td>\n      <td>1</td>\n      <td>1151367060</td>\n      <td>[{'id': 7, 'name': 'Funny', 'count': 544}, {'i...</td>\n      <td>[{'id': 243, 'hero': 'https://pe.tedcdn.com/im...</td>\n      <td>Climate advocate</td>\n      <td>['alternative energy', 'cars', 'climate change...</td>\n      <td>Averting the climate crisis</td>\n      <td>https://www.ted.com/talks/al_gore_on_averting_...</td>\n      <td>3200520</td>\n    </tr>\n    <tr>\n      <th>2</th>\n      <td>124</td>\n      <td>New York Times columnist David Pogue takes aim...</td>\n      <td>1286</td>\n      <td>TED2006</td>\n      <td>1140739200</td>\n      <td>26</td>\n      <td>David Pogue</td>\n      <td>David Pogue: Simplicity sells</td>\n      <td>1</td>\n      <td>1151367060</td>\n      <td>[{'id': 7, 'name': 'Funny', 'count': 964}, {'i...</td>\n      <td>[{'id': 1725, 'hero': 'https://pe.tedcdn.com/i...</td>\n      <td>Technology columnist</td>\n      <td>['computers', 'entertainment', 'interface desi...</td>\n      <td>Simplicity sells</td>\n      <td>https://www.ted.com/talks/david_pogue_says_sim...</td>\n      <td>1636292</td>\n    </tr>\n    <tr>\n      <th>3</th>\n      <td>200</td>\n      <td>In an emotionally charged talk, MacArthur-winn...</td>\n      <td>1116</td>\n      <td>TED2006</td>\n      <td>1140912000</td>\n      <td>35</td>\n      <td>Majora Carter</td>\n      <td>Majora Carter: Greening the ghetto</td>\n      <td>1</td>\n      <td>1151367060</td>\n      <td>[{'id': 3, 'name': 'Courageous', 'count': 760}...</td>\n      <td>[{'id': 1041, 'hero': 'https://pe.tedcdn.com/i...</td>\n      <td>Activist for environmental justice</td>\n      <td>['MacArthur grant', 'activism', 'business', 'c...</td>\n      <td>Greening the ghetto</td>\n      <td>https://www.ted.com/talks/majora_carter_s_tale...</td>\n      <td>1697550</td>\n    </tr>\n    <tr>\n      <th>4</th>\n      <td>593</td>\n      <td>You've never seen data presented like this. Wi...</td>\n      <td>1190</td>\n      <td>TED2006</td>\n      <td>1140566400</td>\n      <td>48</td>\n      <td>Hans Rosling</td>\n      <td>Hans Rosling: The best stats you've ever seen</td>\n      <td>1</td>\n      <td>1151440680</td>\n      <td>[{'id': 9, 'name': 'Ingenious', 'count': 3202}...</td>\n      <td>[{'id': 2056, 'hero': 'https://pe.tedcdn.com/i...</td>\n      <td>Global health expert; data visionary</td>\n      <td>['Africa', 'Asia', 'Google', 'demo', 'economic...</td>\n      <td>The best stats you've ever seen</td>\n      <td>https://www.ted.com/talks/hans_rosling_shows_t...</td>\n      <td>12005869</td>\n    </tr>\n  </tbody>\n</table>\n</div>"
     },
     "execution_count": 18,
     "metadata": {},
     "output_type": "execute_result"
    }
   ],
   "source": [
    "ted = pd.read_csv('ted_main.csv')\n",
    "ted.head()\n"
   ],
   "metadata": {
    "collapsed": false,
    "pycharm": {
     "name": "#%%\n"
    }
   }
  },
  {
   "cell_type": "code",
   "execution_count": 19,
   "outputs": [
    {
     "data": {
      "text/plain": "comments               int64\ndescription           object\nduration               int64\nevent                 object\nfilm_date              int64\nlanguages              int64\nmain_speaker          object\nname                  object\nnum_speaker            int64\npublished_date         int64\nratings               object\nrelated_talks         object\nspeaker_occupation    object\ntags                  object\ntitle                 object\nurl                   object\nviews                  int64\ndtype: object"
     },
     "execution_count": 19,
     "metadata": {},
     "output_type": "execute_result"
    }
   ],
   "source": [
    "ted.dtypes"
   ],
   "metadata": {
    "collapsed": false,
    "pycharm": {
     "name": "#%%\n"
    }
   }
  },
  {
   "cell_type": "code",
   "execution_count": 20,
   "outputs": [
    {
     "data": {
      "text/plain": "comments              0\ndescription           0\nduration              0\nevent                 0\nfilm_date             0\nlanguages             0\nmain_speaker          0\nname                  0\nnum_speaker           0\npublished_date        0\nratings               0\nrelated_talks         0\nspeaker_occupation    6\ntags                  0\ntitle                 0\nurl                   0\nviews                 0\ndtype: int64"
     },
     "execution_count": 20,
     "metadata": {},
     "output_type": "execute_result"
    }
   ],
   "source": [
    "ted.isna().sum()"
   ],
   "metadata": {
    "collapsed": false,
    "pycharm": {
     "name": "#%%\n"
    }
   }
  },
  {
   "cell_type": "markdown",
   "source": [
    "### 1. Which talks provoke the most online discussion?"
   ],
   "metadata": {
    "collapsed": false,
    "pycharm": {
     "name": "#%% md\n"
    }
   }
  },
  {
   "cell_type": "code",
   "execution_count": 21,
   "outputs": [
    {
     "data": {
      "text/plain": "      comments                                        description  duration  \\\n1787      2673  Our consciousness is a fundamental aspect of o...      1117   \n201       2877  Jill Bolte Taylor got a research opportunity f...      1099   \n644       3356  Questions of good and evil, right and wrong ar...      1386   \n0         4553  Sir Ken Robinson makes an entertaining and pro...      1164   \n96        6404  Richard Dawkins urges all atheists to openly s...      1750   \n\n        event   film_date  languages       main_speaker  \\\n1787  TED2014  1395100800         33     David Chalmers   \n201   TED2008  1204070400         49  Jill Bolte Taylor   \n644   TED2010  1265846400         39         Sam Harris   \n0     TED2006  1140825600         60       Ken Robinson   \n96    TED2002  1012608000         42    Richard Dawkins   \n\n                                                   name  num_speaker  \\\n1787  David Chalmers: How do you explain consciousness?            1   \n201             Jill Bolte Taylor: My stroke of insight            1   \n644      Sam Harris: Science can answer moral questions            1   \n0             Ken Robinson: Do schools kill creativity?            1   \n96                    Richard Dawkins: Militant atheism            1   \n\n      published_date                                            ratings  \\\n1787      1405350484  [{'id': 25, 'name': 'OK', 'count': 280}, {'id'...   \n201       1205284200  [{'id': 22, 'name': 'Fascinating', 'count': 14...   \n644       1269249180  [{'id': 8, 'name': 'Informative', 'count': 923...   \n0         1151367060  [{'id': 7, 'name': 'Funny', 'count': 19645}, {...   \n96        1176689220  [{'id': 3, 'name': 'Courageous', 'count': 3236...   \n\n                                          related_talks  \\\n1787  [{'id': 1308, 'hero': 'https://pe.tedcdn.com/i...   \n201   [{'id': 184, 'hero': 'https://pe.tedcdn.com/im...   \n644   [{'id': 666, 'hero': 'https://pe.tedcdn.com/im...   \n0     [{'id': 865, 'hero': 'https://pe.tedcdn.com/im...   \n96    [{'id': 86, 'hero': 'https://pe.tedcdn.com/ima...   \n\n               speaker_occupation  \\\n1787                  Philosopher   \n201                Neuroanatomist   \n644   Neuroscientist, philosopher   \n0                 Author/educator   \n96         Evolutionary biologist   \n\n                                                   tags  \\\n1787  ['brain', 'consciousness', 'neuroscience', 'ph...   \n201   ['biology', 'brain', 'consciousness', 'global ...   \n644   ['culture', 'evolutionary psychology', 'global...   \n0     ['children', 'creativity', 'culture', 'dance',...   \n96    ['God', 'atheism', 'culture', 'religion', 'sci...   \n\n                                   title  \\\n1787   How do you explain consciousness?   \n201                 My stroke of insight   \n644   Science can answer moral questions   \n0            Do schools kill creativity?   \n96                      Militant atheism   \n\n                                                    url     views  \n1787  https://www.ted.com/talks/david_chalmers_how_d...   2162764  \n201   https://www.ted.com/talks/jill_bolte_taylor_s_...  21190883  \n644   https://www.ted.com/talks/sam_harris_science_c...   3433437  \n0     https://www.ted.com/talks/ken_robinson_says_sc...  47227110  \n96    https://www.ted.com/talks/richard_dawkins_on_m...   4374792  ",
      "text/html": "<div>\n<style scoped>\n    .dataframe tbody tr th:only-of-type {\n        vertical-align: middle;\n    }\n\n    .dataframe tbody tr th {\n        vertical-align: top;\n    }\n\n    .dataframe thead th {\n        text-align: right;\n    }\n</style>\n<table border=\"1\" class=\"dataframe\">\n  <thead>\n    <tr style=\"text-align: right;\">\n      <th></th>\n      <th>comments</th>\n      <th>description</th>\n      <th>duration</th>\n      <th>event</th>\n      <th>film_date</th>\n      <th>languages</th>\n      <th>main_speaker</th>\n      <th>name</th>\n      <th>num_speaker</th>\n      <th>published_date</th>\n      <th>ratings</th>\n      <th>related_talks</th>\n      <th>speaker_occupation</th>\n      <th>tags</th>\n      <th>title</th>\n      <th>url</th>\n      <th>views</th>\n    </tr>\n  </thead>\n  <tbody>\n    <tr>\n      <th>1787</th>\n      <td>2673</td>\n      <td>Our consciousness is a fundamental aspect of o...</td>\n      <td>1117</td>\n      <td>TED2014</td>\n      <td>1395100800</td>\n      <td>33</td>\n      <td>David Chalmers</td>\n      <td>David Chalmers: How do you explain consciousness?</td>\n      <td>1</td>\n      <td>1405350484</td>\n      <td>[{'id': 25, 'name': 'OK', 'count': 280}, {'id'...</td>\n      <td>[{'id': 1308, 'hero': 'https://pe.tedcdn.com/i...</td>\n      <td>Philosopher</td>\n      <td>['brain', 'consciousness', 'neuroscience', 'ph...</td>\n      <td>How do you explain consciousness?</td>\n      <td>https://www.ted.com/talks/david_chalmers_how_d...</td>\n      <td>2162764</td>\n    </tr>\n    <tr>\n      <th>201</th>\n      <td>2877</td>\n      <td>Jill Bolte Taylor got a research opportunity f...</td>\n      <td>1099</td>\n      <td>TED2008</td>\n      <td>1204070400</td>\n      <td>49</td>\n      <td>Jill Bolte Taylor</td>\n      <td>Jill Bolte Taylor: My stroke of insight</td>\n      <td>1</td>\n      <td>1205284200</td>\n      <td>[{'id': 22, 'name': 'Fascinating', 'count': 14...</td>\n      <td>[{'id': 184, 'hero': 'https://pe.tedcdn.com/im...</td>\n      <td>Neuroanatomist</td>\n      <td>['biology', 'brain', 'consciousness', 'global ...</td>\n      <td>My stroke of insight</td>\n      <td>https://www.ted.com/talks/jill_bolte_taylor_s_...</td>\n      <td>21190883</td>\n    </tr>\n    <tr>\n      <th>644</th>\n      <td>3356</td>\n      <td>Questions of good and evil, right and wrong ar...</td>\n      <td>1386</td>\n      <td>TED2010</td>\n      <td>1265846400</td>\n      <td>39</td>\n      <td>Sam Harris</td>\n      <td>Sam Harris: Science can answer moral questions</td>\n      <td>1</td>\n      <td>1269249180</td>\n      <td>[{'id': 8, 'name': 'Informative', 'count': 923...</td>\n      <td>[{'id': 666, 'hero': 'https://pe.tedcdn.com/im...</td>\n      <td>Neuroscientist, philosopher</td>\n      <td>['culture', 'evolutionary psychology', 'global...</td>\n      <td>Science can answer moral questions</td>\n      <td>https://www.ted.com/talks/sam_harris_science_c...</td>\n      <td>3433437</td>\n    </tr>\n    <tr>\n      <th>0</th>\n      <td>4553</td>\n      <td>Sir Ken Robinson makes an entertaining and pro...</td>\n      <td>1164</td>\n      <td>TED2006</td>\n      <td>1140825600</td>\n      <td>60</td>\n      <td>Ken Robinson</td>\n      <td>Ken Robinson: Do schools kill creativity?</td>\n      <td>1</td>\n      <td>1151367060</td>\n      <td>[{'id': 7, 'name': 'Funny', 'count': 19645}, {...</td>\n      <td>[{'id': 865, 'hero': 'https://pe.tedcdn.com/im...</td>\n      <td>Author/educator</td>\n      <td>['children', 'creativity', 'culture', 'dance',...</td>\n      <td>Do schools kill creativity?</td>\n      <td>https://www.ted.com/talks/ken_robinson_says_sc...</td>\n      <td>47227110</td>\n    </tr>\n    <tr>\n      <th>96</th>\n      <td>6404</td>\n      <td>Richard Dawkins urges all atheists to openly s...</td>\n      <td>1750</td>\n      <td>TED2002</td>\n      <td>1012608000</td>\n      <td>42</td>\n      <td>Richard Dawkins</td>\n      <td>Richard Dawkins: Militant atheism</td>\n      <td>1</td>\n      <td>1176689220</td>\n      <td>[{'id': 3, 'name': 'Courageous', 'count': 3236...</td>\n      <td>[{'id': 86, 'hero': 'https://pe.tedcdn.com/ima...</td>\n      <td>Evolutionary biologist</td>\n      <td>['God', 'atheism', 'culture', 'religion', 'sci...</td>\n      <td>Militant atheism</td>\n      <td>https://www.ted.com/talks/richard_dawkins_on_m...</td>\n      <td>4374792</td>\n    </tr>\n  </tbody>\n</table>\n</div>"
     },
     "execution_count": 21,
     "metadata": {},
     "output_type": "execute_result"
    }
   ],
   "source": [
    "ted.sort_values('comments').tail()\n",
    "\n"
   ],
   "metadata": {
    "collapsed": false,
    "pycharm": {
     "name": "#%%\n"
    }
   }
  },
  {
   "cell_type": "code",
   "execution_count": 22,
   "outputs": [],
   "source": [
    "ted['comments_per_view'] = ted.comments / ted.views\n",
    "#Inverting calculation to be more interpretable\n",
    "ted['views_per_comment'] = ted.views / ted.comments"
   ],
   "metadata": {
    "collapsed": false,
    "pycharm": {
     "name": "#%%\n"
    }
   }
  },
  {
   "cell_type": "code",
   "execution_count": 23,
   "outputs": [
    {
     "data": {
      "text/plain": "      comments                                        description  duration  \\\n2494         7  Jimmy Lin is developing technologies to catch ...       730   \n2528         3  Digital archaeologist Chance Coughenour is usi...       717   \n2542         3  In the century-old statues that occupy Cape To...       795   \n2501         3  Meet Françoise Mouly, The New Yorker's art dir...       509   \n2534         2  What the astronauts felt when they saw Earth f...       725   \n\n               event   film_date  languages        main_speaker  \\\n2494         TED2017  1492992000         10           Jimmy Lin   \n2528     TEDxHamburg  1465344000          5   Chance Coughenour   \n2542  TEDGlobal 2017  1503792000          1  Sethembile Msezane   \n2501          TEDNYC  1488931200         12     Françoise Mouly   \n2534       TEDxSkoll  1491523200          1      Benjamin Grant   \n\n                                                   name  num_speaker  \\\n2494  Jimmy Lin: A simple new blood test that can ca...            1   \n2528  Chance Coughenour: How your pictures can help ...            1   \n2542  Sethembile Msezane: Living sculptures that sta...            1   \n2501  Françoise Mouly: The stories behind The New Yo...            1   \n2534  Benjamin Grant: What it feels like to see Eart...            1   \n\n      published_date                                            ratings  \\\n2494      1500994384  [{'id': 1, 'name': 'Beautiful', 'count': 7}, {...   \n2528      1504209631  [{'id': 9, 'name': 'Ingenious', 'count': 16}, ...   \n2542      1505488093  [{'id': 1, 'name': 'Beautiful', 'count': 41}, ...   \n2501      1501770244  [{'id': 7, 'name': 'Funny', 'count': 10}, {'id...   \n2534      1504814438  [{'id': 10, 'name': 'Inspiring', 'count': 46},...   \n\n                                          related_talks  \\\n2494  [{'id': 2498, 'hero': 'https://pe.tedcdn.com/i...   \n2528  [{'id': 2673, 'hero': 'https://pe.tedcdn.com/i...   \n2542  [{'id': 2873, 'hero': 'https://pe.tedcdn.com/i...   \n2501  [{'id': 2479, 'hero': 'https://pe.tedcdn.com/i...   \n2534  [{'id': 2511, 'hero': 'https://pe.tedcdn.com/i...   \n\n         speaker_occupation  \\\n2494             Geneticist   \n2528  Digital archaeologist   \n2542                 Artist   \n2501             Art editor   \n2534                 Author   \n\n                                                   tags  \\\n2494  ['DNA', 'TED Fellows', 'biology', 'cancer', 'd...   \n2528  ['TEDx', 'ancient world', 'archaeology', 'cons...   \n2542  ['Africa', 'activism', 'art', 'community', 'hi...   \n2501  ['TEDNYC', 'art', 'creativity', 'culture', 'de...   \n2534  ['TEDx', 'art', 'climate change', 'environment...   \n\n                                                  title  \\\n2494  A simple new blood test that can catch cancer ...   \n2528    How your pictures can help reclaim lost history   \n2542  Living sculptures that stand for history's truths   \n2501  The stories behind The New Yorker's iconic covers   \n2534         What it feels like to see Earth from space   \n\n                                                    url    views  \\\n2494  https://www.ted.com/talks/jimmy_lin_a_simple_n...  1005506   \n2528  https://www.ted.com/talks/chance_coughenour_ho...   539207   \n2542  https://www.ted.com/talks/sethembile_msezane_l...   542088   \n2501  https://www.ted.com/talks/francoise_mouly_the_...   839040   \n2534  https://www.ted.com/talks/benjamin_grant_what_...   646174   \n\n      comments_per_view  views_per_comment  \n2494           0.000007      143643.714286  \n2528           0.000006      179735.666667  \n2542           0.000006      180696.000000  \n2501           0.000004      279680.000000  \n2534           0.000003      323087.000000  ",
      "text/html": "<div>\n<style scoped>\n    .dataframe tbody tr th:only-of-type {\n        vertical-align: middle;\n    }\n\n    .dataframe tbody tr th {\n        vertical-align: top;\n    }\n\n    .dataframe thead th {\n        text-align: right;\n    }\n</style>\n<table border=\"1\" class=\"dataframe\">\n  <thead>\n    <tr style=\"text-align: right;\">\n      <th></th>\n      <th>comments</th>\n      <th>description</th>\n      <th>duration</th>\n      <th>event</th>\n      <th>film_date</th>\n      <th>languages</th>\n      <th>main_speaker</th>\n      <th>name</th>\n      <th>num_speaker</th>\n      <th>published_date</th>\n      <th>ratings</th>\n      <th>related_talks</th>\n      <th>speaker_occupation</th>\n      <th>tags</th>\n      <th>title</th>\n      <th>url</th>\n      <th>views</th>\n      <th>comments_per_view</th>\n      <th>views_per_comment</th>\n    </tr>\n  </thead>\n  <tbody>\n    <tr>\n      <th>2494</th>\n      <td>7</td>\n      <td>Jimmy Lin is developing technologies to catch ...</td>\n      <td>730</td>\n      <td>TED2017</td>\n      <td>1492992000</td>\n      <td>10</td>\n      <td>Jimmy Lin</td>\n      <td>Jimmy Lin: A simple new blood test that can ca...</td>\n      <td>1</td>\n      <td>1500994384</td>\n      <td>[{'id': 1, 'name': 'Beautiful', 'count': 7}, {...</td>\n      <td>[{'id': 2498, 'hero': 'https://pe.tedcdn.com/i...</td>\n      <td>Geneticist</td>\n      <td>['DNA', 'TED Fellows', 'biology', 'cancer', 'd...</td>\n      <td>A simple new blood test that can catch cancer ...</td>\n      <td>https://www.ted.com/talks/jimmy_lin_a_simple_n...</td>\n      <td>1005506</td>\n      <td>0.000007</td>\n      <td>143643.714286</td>\n    </tr>\n    <tr>\n      <th>2528</th>\n      <td>3</td>\n      <td>Digital archaeologist Chance Coughenour is usi...</td>\n      <td>717</td>\n      <td>TEDxHamburg</td>\n      <td>1465344000</td>\n      <td>5</td>\n      <td>Chance Coughenour</td>\n      <td>Chance Coughenour: How your pictures can help ...</td>\n      <td>1</td>\n      <td>1504209631</td>\n      <td>[{'id': 9, 'name': 'Ingenious', 'count': 16}, ...</td>\n      <td>[{'id': 2673, 'hero': 'https://pe.tedcdn.com/i...</td>\n      <td>Digital archaeologist</td>\n      <td>['TEDx', 'ancient world', 'archaeology', 'cons...</td>\n      <td>How your pictures can help reclaim lost history</td>\n      <td>https://www.ted.com/talks/chance_coughenour_ho...</td>\n      <td>539207</td>\n      <td>0.000006</td>\n      <td>179735.666667</td>\n    </tr>\n    <tr>\n      <th>2542</th>\n      <td>3</td>\n      <td>In the century-old statues that occupy Cape To...</td>\n      <td>795</td>\n      <td>TEDGlobal 2017</td>\n      <td>1503792000</td>\n      <td>1</td>\n      <td>Sethembile Msezane</td>\n      <td>Sethembile Msezane: Living sculptures that sta...</td>\n      <td>1</td>\n      <td>1505488093</td>\n      <td>[{'id': 1, 'name': 'Beautiful', 'count': 41}, ...</td>\n      <td>[{'id': 2873, 'hero': 'https://pe.tedcdn.com/i...</td>\n      <td>Artist</td>\n      <td>['Africa', 'activism', 'art', 'community', 'hi...</td>\n      <td>Living sculptures that stand for history's truths</td>\n      <td>https://www.ted.com/talks/sethembile_msezane_l...</td>\n      <td>542088</td>\n      <td>0.000006</td>\n      <td>180696.000000</td>\n    </tr>\n    <tr>\n      <th>2501</th>\n      <td>3</td>\n      <td>Meet Françoise Mouly, The New Yorker's art dir...</td>\n      <td>509</td>\n      <td>TEDNYC</td>\n      <td>1488931200</td>\n      <td>12</td>\n      <td>Françoise Mouly</td>\n      <td>Françoise Mouly: The stories behind The New Yo...</td>\n      <td>1</td>\n      <td>1501770244</td>\n      <td>[{'id': 7, 'name': 'Funny', 'count': 10}, {'id...</td>\n      <td>[{'id': 2479, 'hero': 'https://pe.tedcdn.com/i...</td>\n      <td>Art editor</td>\n      <td>['TEDNYC', 'art', 'creativity', 'culture', 'de...</td>\n      <td>The stories behind The New Yorker's iconic covers</td>\n      <td>https://www.ted.com/talks/francoise_mouly_the_...</td>\n      <td>839040</td>\n      <td>0.000004</td>\n      <td>279680.000000</td>\n    </tr>\n    <tr>\n      <th>2534</th>\n      <td>2</td>\n      <td>What the astronauts felt when they saw Earth f...</td>\n      <td>725</td>\n      <td>TEDxSkoll</td>\n      <td>1491523200</td>\n      <td>1</td>\n      <td>Benjamin Grant</td>\n      <td>Benjamin Grant: What it feels like to see Eart...</td>\n      <td>1</td>\n      <td>1504814438</td>\n      <td>[{'id': 10, 'name': 'Inspiring', 'count': 46},...</td>\n      <td>[{'id': 2511, 'hero': 'https://pe.tedcdn.com/i...</td>\n      <td>Author</td>\n      <td>['TEDx', 'art', 'climate change', 'environment...</td>\n      <td>What it feels like to see Earth from space</td>\n      <td>https://www.ted.com/talks/benjamin_grant_what_...</td>\n      <td>646174</td>\n      <td>0.000003</td>\n      <td>323087.000000</td>\n    </tr>\n  </tbody>\n</table>\n</div>"
     },
     "execution_count": 23,
     "metadata": {},
     "output_type": "execute_result"
    }
   ],
   "source": [
    "ted.sort_values('views_per_comment').tail()\n"
   ],
   "metadata": {
    "collapsed": false,
    "pycharm": {
     "name": "#%%\n"
    }
   }
  },
  {
   "cell_type": "code",
   "execution_count": 24,
   "outputs": [
    {
     "data": {
      "text/plain": "     comments                                        description  duration  \\\n954      2492  Janet Echelman found her true voice as an arti...       566   \n694      1502  Filmmaker Sharmeen Obaid-Chinoy takes on a ter...       489   \n96       6404  Richard Dawkins urges all atheists to openly s...      1750   \n803       834  David Bismark demos a new system for voting th...       422   \n744       649  Hours before New York lawmakers rejected a key...       453   \n\n                     event   film_date  languages           main_speaker  \\\n954                TED2011  1299110400         35         Janet Echelman   \n694                TED2010  1265760000         32  Sharmeen Obaid-Chinoy   \n96                 TED2002  1012608000         42        Richard Dawkins   \n803         TEDGlobal 2010  1279065600         36          David Bismark   \n744  New York State Senate  1259712000          0        Diane J. Savino   \n\n                                                  name  num_speaker  \\\n954       Janet Echelman: Taking imagination seriously            1   \n694  Sharmeen Obaid-Chinoy: Inside a school for sui...            1   \n96                   Richard Dawkins: Militant atheism            1   \n803              David Bismark: E-voting without fraud            1   \n744    Diane J. Savino: The case for same-sex marriage            1   \n\n     published_date                                            ratings  \\\n954      1307489760  [{'id': 23, 'name': 'Jaw-dropping', 'count': 3...   \n694      1274865960  [{'id': 23, 'name': 'Jaw-dropping', 'count': 3...   \n96       1176689220  [{'id': 3, 'name': 'Courageous', 'count': 3236...   \n803      1288685640  [{'id': 25, 'name': 'OK', 'count': 111}, {'id'...   \n744      1282062180  [{'id': 25, 'name': 'OK', 'count': 100}, {'id'...   \n\n                                         related_talks  \\\n954  [{'id': 453, 'hero': 'https://pe.tedcdn.com/im...   \n694  [{'id': 171, 'hero': 'https://pe.tedcdn.com/im...   \n96   [{'id': 86, 'hero': 'https://pe.tedcdn.com/ima...   \n803  [{'id': 803, 'hero': 'https://pe.tedcdn.com/im...   \n744  [{'id': 217, 'hero': 'https://pe.tedcdn.com/im...   \n\n         speaker_occupation  \\\n954                  Artist   \n694               Filmmaker   \n96   Evolutionary biologist   \n803  Voting system designer   \n744                 Senator   \n\n                                                  tags  \\\n954  ['art', 'cities', 'culture', 'data', 'design',...   \n694  ['TED Fellows', 'children', 'culture', 'film',...   \n96   ['God', 'atheism', 'culture', 'religion', 'sci...   \n803  ['culture', 'democracy', 'design', 'global iss...   \n744  ['God', 'LGBT', 'culture', 'government', 'law'...   \n\n                                   title  \\\n954         Taking imagination seriously   \n694  Inside a school for suicide bombers   \n96                      Militant atheism   \n803               E-voting without fraud   \n744       The case for same-sex marriage   \n\n                                                   url    views  \\\n954         https://www.ted.com/talks/janet_echelman\\n  1832930   \n694  https://www.ted.com/talks/sharmeen_obaid_chino...  1057238   \n96   https://www.ted.com/talks/richard_dawkins_on_m...  4374792   \n803  https://www.ted.com/talks/david_bismark_e_voti...   543551   \n744  https://www.ted.com/talks/diane_j_savino_the_c...   292395   \n\n     comments_per_view  views_per_comment  \n954           0.001360         735.525682  \n694           0.001421         703.886818  \n96            0.001464         683.134291  \n803           0.001534         651.739808  \n744           0.002220         450.531587  ",
      "text/html": "<div>\n<style scoped>\n    .dataframe tbody tr th:only-of-type {\n        vertical-align: middle;\n    }\n\n    .dataframe tbody tr th {\n        vertical-align: top;\n    }\n\n    .dataframe thead th {\n        text-align: right;\n    }\n</style>\n<table border=\"1\" class=\"dataframe\">\n  <thead>\n    <tr style=\"text-align: right;\">\n      <th></th>\n      <th>comments</th>\n      <th>description</th>\n      <th>duration</th>\n      <th>event</th>\n      <th>film_date</th>\n      <th>languages</th>\n      <th>main_speaker</th>\n      <th>name</th>\n      <th>num_speaker</th>\n      <th>published_date</th>\n      <th>ratings</th>\n      <th>related_talks</th>\n      <th>speaker_occupation</th>\n      <th>tags</th>\n      <th>title</th>\n      <th>url</th>\n      <th>views</th>\n      <th>comments_per_view</th>\n      <th>views_per_comment</th>\n    </tr>\n  </thead>\n  <tbody>\n    <tr>\n      <th>954</th>\n      <td>2492</td>\n      <td>Janet Echelman found her true voice as an arti...</td>\n      <td>566</td>\n      <td>TED2011</td>\n      <td>1299110400</td>\n      <td>35</td>\n      <td>Janet Echelman</td>\n      <td>Janet Echelman: Taking imagination seriously</td>\n      <td>1</td>\n      <td>1307489760</td>\n      <td>[{'id': 23, 'name': 'Jaw-dropping', 'count': 3...</td>\n      <td>[{'id': 453, 'hero': 'https://pe.tedcdn.com/im...</td>\n      <td>Artist</td>\n      <td>['art', 'cities', 'culture', 'data', 'design',...</td>\n      <td>Taking imagination seriously</td>\n      <td>https://www.ted.com/talks/janet_echelman\\n</td>\n      <td>1832930</td>\n      <td>0.001360</td>\n      <td>735.525682</td>\n    </tr>\n    <tr>\n      <th>694</th>\n      <td>1502</td>\n      <td>Filmmaker Sharmeen Obaid-Chinoy takes on a ter...</td>\n      <td>489</td>\n      <td>TED2010</td>\n      <td>1265760000</td>\n      <td>32</td>\n      <td>Sharmeen Obaid-Chinoy</td>\n      <td>Sharmeen Obaid-Chinoy: Inside a school for sui...</td>\n      <td>1</td>\n      <td>1274865960</td>\n      <td>[{'id': 23, 'name': 'Jaw-dropping', 'count': 3...</td>\n      <td>[{'id': 171, 'hero': 'https://pe.tedcdn.com/im...</td>\n      <td>Filmmaker</td>\n      <td>['TED Fellows', 'children', 'culture', 'film',...</td>\n      <td>Inside a school for suicide bombers</td>\n      <td>https://www.ted.com/talks/sharmeen_obaid_chino...</td>\n      <td>1057238</td>\n      <td>0.001421</td>\n      <td>703.886818</td>\n    </tr>\n    <tr>\n      <th>96</th>\n      <td>6404</td>\n      <td>Richard Dawkins urges all atheists to openly s...</td>\n      <td>1750</td>\n      <td>TED2002</td>\n      <td>1012608000</td>\n      <td>42</td>\n      <td>Richard Dawkins</td>\n      <td>Richard Dawkins: Militant atheism</td>\n      <td>1</td>\n      <td>1176689220</td>\n      <td>[{'id': 3, 'name': 'Courageous', 'count': 3236...</td>\n      <td>[{'id': 86, 'hero': 'https://pe.tedcdn.com/ima...</td>\n      <td>Evolutionary biologist</td>\n      <td>['God', 'atheism', 'culture', 'religion', 'sci...</td>\n      <td>Militant atheism</td>\n      <td>https://www.ted.com/talks/richard_dawkins_on_m...</td>\n      <td>4374792</td>\n      <td>0.001464</td>\n      <td>683.134291</td>\n    </tr>\n    <tr>\n      <th>803</th>\n      <td>834</td>\n      <td>David Bismark demos a new system for voting th...</td>\n      <td>422</td>\n      <td>TEDGlobal 2010</td>\n      <td>1279065600</td>\n      <td>36</td>\n      <td>David Bismark</td>\n      <td>David Bismark: E-voting without fraud</td>\n      <td>1</td>\n      <td>1288685640</td>\n      <td>[{'id': 25, 'name': 'OK', 'count': 111}, {'id'...</td>\n      <td>[{'id': 803, 'hero': 'https://pe.tedcdn.com/im...</td>\n      <td>Voting system designer</td>\n      <td>['culture', 'democracy', 'design', 'global iss...</td>\n      <td>E-voting without fraud</td>\n      <td>https://www.ted.com/talks/david_bismark_e_voti...</td>\n      <td>543551</td>\n      <td>0.001534</td>\n      <td>651.739808</td>\n    </tr>\n    <tr>\n      <th>744</th>\n      <td>649</td>\n      <td>Hours before New York lawmakers rejected a key...</td>\n      <td>453</td>\n      <td>New York State Senate</td>\n      <td>1259712000</td>\n      <td>0</td>\n      <td>Diane J. Savino</td>\n      <td>Diane J. Savino: The case for same-sex marriage</td>\n      <td>1</td>\n      <td>1282062180</td>\n      <td>[{'id': 25, 'name': 'OK', 'count': 100}, {'id'...</td>\n      <td>[{'id': 217, 'hero': 'https://pe.tedcdn.com/im...</td>\n      <td>Senator</td>\n      <td>['God', 'LGBT', 'culture', 'government', 'law'...</td>\n      <td>The case for same-sex marriage</td>\n      <td>https://www.ted.com/talks/diane_j_savino_the_c...</td>\n      <td>292395</td>\n      <td>0.002220</td>\n      <td>450.531587</td>\n    </tr>\n  </tbody>\n</table>\n</div>"
     },
     "execution_count": 24,
     "metadata": {},
     "output_type": "execute_result"
    }
   ],
   "source": [
    "ted.sort_values('comments_per_view').tail()\n"
   ],
   "metadata": {
    "collapsed": false,
    "pycharm": {
     "name": "#%%\n"
    }
   }
  },
  {
   "cell_type": "markdown",
   "source": [
    "## 2. Visualizing the distribution of comments"
   ],
   "metadata": {
    "collapsed": false,
    "pycharm": {
     "name": "#%% md\n"
    }
   }
  },
  {
   "cell_type": "code",
   "execution_count": 25,
   "outputs": [
    {
     "data": {
      "text/plain": "<AxesSubplot:xlabel='comments', ylabel='Count'>"
     },
     "execution_count": 25,
     "metadata": {},
     "output_type": "execute_result"
    },
    {
     "data": {
      "text/plain": "<Figure size 2250x900 with 1 Axes>",
      "image/png": "[encoded data removed]"
     },
     "metadata": {
      "needs_background": "light"
     },
     "output_type": "display_data"
    }
   ],
   "source": [
    "sns.histplot(ted['comments'],bins=20,binrange=[0,1100])"
   ],
   "metadata": {
    "collapsed": false,
    "pycharm": {
     "name": "#%%\n"
    }
   }
  },
  {
   "cell_type": "code",
   "execution_count": 26,
   "outputs": [
    {
     "data": {
      "text/plain": "<AxesSubplot:ylabel='Frequency'>"
     },
     "execution_count": 26,
     "metadata": {},
     "output_type": "execute_result"
    },
    {
     "data": {
      "text/plain": "<Figure size 2250x900 with 1 Axes>",
      "image/png": "[encoded data removed]"
     },
     "metadata": {
      "needs_background": "light"
     },
     "output_type": "display_data"
    }
   ],
   "source": [
    "ted.loc[ted.comments<1000 , 'comments'].plot(kind='hist')\n"
   ],
   "metadata": {
    "collapsed": false,
    "pycharm": {
     "name": "#%%\n"
    }
   }
  },
  {
   "cell_type": "code",
   "execution_count": 28,
   "outputs": [
    {
     "data": {
      "text/plain": "<AxesSubplot:ylabel='comments'>"
     },
     "execution_count": 28,
     "metadata": {},
     "output_type": "execute_result"
    },
    {
     "data": {
      "text/plain": "<Figure size 2250x900 with 1 Axes>",
      "image/png": "[encoded data removed]"
     },
     "metadata": {
      "needs_background": "light"
     },
     "output_type": "display_data"
    }
   ],
   "source": [
    "sns.boxplot(y=ted.comments)\n",
    "\n",
    "#Boxplot is not informative for this data. Due to outliers, we can't get good information from boxplot in this case."
   ],
   "metadata": {
    "collapsed": false,
    "pycharm": {
     "name": "#%%\n"
    }
   }
  },
  {
   "cell_type": "markdown",
   "source": [
    "##  3.Plot the number of talks that took place each year"
   ],
   "metadata": {
    "collapsed": false,
    "pycharm": {
     "name": "#%% md\n"
    }
   }
  },
  {
   "cell_type": "code",
   "execution_count": 31,
   "outputs": [
    {
     "data": {
      "text/plain": "813           TED2010\n2225          TED2016\n454           TED2009\n860     TED@MotorCity\n172           TED2007\n2131      TEDMED 2015\n2345      TEDxNewYork\n1549          TED2013\n381           TED2009\n1217          TED2012\nName: event, dtype: object"
     },
     "execution_count": 31,
     "metadata": {},
     "output_type": "execute_result"
    }
   ],
   "source": [
    "ted.event.sample(10)"
   ],
   "metadata": {
    "collapsed": false,
    "pycharm": {
     "name": "#%%\n"
    }
   }
  },
  {
   "cell_type": "code",
   "execution_count": 35,
   "outputs": [],
   "source": [
    "#pd.to_datetime(ted.film_date)\n",
    "#Normal datetime doesnt work because it uses unix datetime.\n",
    "ted['film_datetime'] =  pd.to_datetime(ted.film_date,unit='s')"
   ],
   "metadata": {
    "collapsed": false,
    "pycharm": {
     "name": "#%%\n"
    }
   }
  },
  {
   "cell_type": "code",
   "execution_count": 36,
   "outputs": [
    {
     "data": {
      "text/plain": "                     event film_datetime\n1818  TEDSalon Berlin 2014    2014-06-23\n68                 TED2005    2005-02-02\n1379         TEDYouth 2011    2011-11-19\n72                 TED2004    2004-02-02\n2332           TEDxNewYork    2016-09-10\n2054        TEDGlobal 2014    2014-10-07\n1431        TEDGlobal 2012    2012-06-26\n101                TED2004    2004-02-02\n764         Gel Conference    2006-09-08\n551         TEDGlobal 2009    2009-07-21\n1362              TEDxEast    2012-05-11\n264         TEDGlobal 2007    2007-06-06\n1825          TED@Unilever    2014-09-17\n1033        TEDGlobal 2011    2011-07-13\n1478               TED2013    2013-02-27",
      "text/html": "<div>\n<style scoped>\n    .dataframe tbody tr th:only-of-type {\n        vertical-align: middle;\n    }\n\n    .dataframe tbody tr th {\n        vertical-align: top;\n    }\n\n    .dataframe thead th {\n        text-align: right;\n    }\n</style>\n<table border=\"1\" class=\"dataframe\">\n  <thead>\n    <tr style=\"text-align: right;\">\n      <th></th>\n      <th>event</th>\n      <th>film_datetime</th>\n    </tr>\n  </thead>\n  <tbody>\n    <tr>\n      <th>1818</th>\n      <td>TEDSalon Berlin 2014</td>\n      <td>2014-06-23</td>\n    </tr>\n    <tr>\n      <th>68</th>\n      <td>TED2005</td>\n      <td>2005-02-02</td>\n    </tr>\n    <tr>\n      <th>1379</th>\n      <td>TEDYouth 2011</td>\n      <td>2011-11-19</td>\n    </tr>\n    <tr>\n      <th>72</th>\n      <td>TED2004</td>\n      <td>2004-02-02</td>\n    </tr>\n    <tr>\n      <th>2332</th>\n      <td>TEDxNewYork</td>\n      <td>2016-09-10</td>\n    </tr>\n    <tr>\n      <th>2054</th>\n      <td>TEDGlobal 2014</td>\n      <td>2014-10-07</td>\n    </tr>\n    <tr>\n      <th>1431</th>\n      <td>TEDGlobal 2012</td>\n      <td>2012-06-26</td>\n    </tr>\n    <tr>\n      <th>101</th>\n      <td>TED2004</td>\n      <td>2004-02-02</td>\n    </tr>\n    <tr>\n      <th>764</th>\n      <td>Gel Conference</td>\n      <td>2006-09-08</td>\n    </tr>\n    <tr>\n      <th>551</th>\n      <td>TEDGlobal 2009</td>\n      <td>2009-07-21</td>\n    </tr>\n    <tr>\n      <th>1362</th>\n      <td>TEDxEast</td>\n      <td>2012-05-11</td>\n    </tr>\n    <tr>\n      <th>264</th>\n      <td>TEDGlobal 2007</td>\n      <td>2007-06-06</td>\n    </tr>\n    <tr>\n      <th>1825</th>\n      <td>TED@Unilever</td>\n      <td>2014-09-17</td>\n    </tr>\n    <tr>\n      <th>1033</th>\n      <td>TEDGlobal 2011</td>\n      <td>2011-07-13</td>\n    </tr>\n    <tr>\n      <th>1478</th>\n      <td>TED2013</td>\n      <td>2013-02-27</td>\n    </tr>\n  </tbody>\n</table>\n</div>"
     },
     "execution_count": 36,
     "metadata": {},
     "output_type": "execute_result"
    }
   ],
   "source": [
    "#Being sure that they're at the same time\n",
    "ted[['event' , 'film_datetime']].sample(15)\n",
    "\n",
    "#Ok, seems like now it's correct."
   ],
   "metadata": {
    "collapsed": false,
    "pycharm": {
     "name": "#%%\n"
    }
   }
  },
  {
   "cell_type": "code",
   "execution_count": 39,
   "outputs": [
    {
     "data": {
      "text/plain": "2013    270\n2011    270\n2010    267\n2012    267\n2016    246\n2015    239\n2014    237\n2009    232\n2007    114\n2017     98\n2008     84\n2005     66\n2006     50\n2003     33\n2004     33\n2002     27\n1998      6\n2001      5\n1983      1\n1991      1\n1994      1\n1990      1\n1984      1\n1972      1\nName: film_datetime, dtype: int64"
     },
     "execution_count": 39,
     "metadata": {},
     "output_type": "execute_result"
    }
   ],
   "source": [
    "ted.film_datetime.dt.year.value_counts()"
   ],
   "metadata": {
    "collapsed": false,
    "pycharm": {
     "name": "#%%\n"
    }
   }
  },
  {
   "cell_type": "code",
   "execution_count": 42,
   "outputs": [
    {
     "name": "stderr",
     "output_type": "stream",
     "text": [
      "/home/phystech/.local/lib/python3.8/site-packages/seaborn/_decorators.py:36: FutureWarning: Pass the following variable as a keyword arg: x. From version 0.12, the only valid positional argument will be `data`, and passing other arguments without an explicit keyword will result in an error or misinterpretation.\n",
      "  warnings.warn(\n"
     ]
    },
    {
     "data": {
      "text/plain": "<AxesSubplot:xlabel='film_datetime', ylabel='count'>"
     },
     "execution_count": 42,
     "metadata": {},
     "output_type": "execute_result"
    },
    {
     "data": {
      "text/plain": "<Figure size 2250x900 with 1 Axes>",
      "image/png": "[encoded data removed]"
     },
     "metadata": {
      "needs_background": "light"
     },
     "output_type": "display_data"
    }
   ],
   "source": [
    "sns.countplot(ted.film_datetime.dt.year)\n"
   ],
   "metadata": {
    "collapsed": false,
    "pycharm": {
     "name": "#%%\n"
    }
   }
  },
  {
   "cell_type": "code",
   "execution_count": 45,
   "outputs": [
    {
     "data": {
      "text/plain": "<AxesSubplot:>"
     },
     "execution_count": 45,
     "metadata": {},
     "output_type": "execute_result"
    },
    {
     "data": {
      "text/plain": "<Figure size 2250x900 with 1 Axes>",
      "image/png": "[encoded data removed]"
     },
     "metadata": {
      "needs_background": "light"
     },
     "output_type": "display_data"
    }
   ],
   "source": [
    "#sns.lineplot(ted.film_datetime.dt.year,ted.film_datetime.dt.year.value_counts())\n",
    "ted.film_datetime.dt.year.value_counts().sort_index().plot()"
   ],
   "metadata": {
    "collapsed": false,
    "pycharm": {
     "name": "#%%\n"
    }
   }
  },
  {
   "cell_type": "markdown",
   "source": [
    "## 4. What were the \"best\" events in TED history to attend?"
   ],
   "metadata": {
    "collapsed": false,
    "pycharm": {
     "name": "#%% md\n"
    }
   }
  },
  {
   "cell_type": "code",
   "execution_count": 46,
   "outputs": [
    {
     "data": {
      "text/plain": "TED2014    84\nTED2009    83\nTED2013    77\nTED2016    77\nTED2015    75\nName: event, dtype: int64"
     },
     "execution_count": 46,
     "metadata": {},
     "output_type": "execute_result"
    }
   ],
   "source": [
    "ted.event.value_counts().head()"
   ],
   "metadata": {
    "collapsed": false,
    "pycharm": {
     "name": "#%%\n"
    }
   }
  },
  {
   "cell_type": "code",
   "execution_count": 50,
   "outputs": [
    {
     "data": {
      "text/plain": "event\nTEDxNorrkoping        6569493.0\nTEDxCreativeCoast     8444981.0\nTEDxBloomington       9484259.5\nTEDxHouston          16140250.5\nTEDxPuget Sound      34309432.0\nName: views, dtype: float64"
     },
     "execution_count": 50,
     "metadata": {},
     "output_type": "execute_result"
    }
   ],
   "source": [
    "ted.groupby('event').views.mean().sort_values().tail()"
   ],
   "metadata": {
    "collapsed": false,
    "pycharm": {
     "name": "#%%\n"
    }
   }
  },
  {
   "cell_type": "code",
   "execution_count": 51,
   "outputs": [
    {
     "data": {
      "text/plain": "                   count        mean\nevent                               \nTEDxNorrkoping         1   6569493.0\nTEDxCreativeCoast      1   8444981.0\nTEDxBloomington        2   9484259.5\nTEDxHouston            2  16140250.5\nTEDxPuget Sound        1  34309432.0",
      "text/html": "<div>\n<style scoped>\n    .dataframe tbody tr th:only-of-type {\n        vertical-align: middle;\n    }\n\n    .dataframe tbody tr th {\n        vertical-align: top;\n    }\n\n    .dataframe thead th {\n        text-align: right;\n    }\n</style>\n<table border=\"1\" class=\"dataframe\">\n  <thead>\n    <tr style=\"text-align: right;\">\n      <th></th>\n      <th>count</th>\n      <th>mean</th>\n    </tr>\n    <tr>\n      <th>event</th>\n      <th></th>\n      <th></th>\n    </tr>\n  </thead>\n  <tbody>\n    <tr>\n      <th>TEDxNorrkoping</th>\n      <td>1</td>\n      <td>6569493.0</td>\n    </tr>\n    <tr>\n      <th>TEDxCreativeCoast</th>\n      <td>1</td>\n      <td>8444981.0</td>\n    </tr>\n    <tr>\n      <th>TEDxBloomington</th>\n      <td>2</td>\n      <td>9484259.5</td>\n    </tr>\n    <tr>\n      <th>TEDxHouston</th>\n      <td>2</td>\n      <td>16140250.5</td>\n    </tr>\n    <tr>\n      <th>TEDxPuget Sound</th>\n      <td>1</td>\n      <td>34309432.0</td>\n    </tr>\n  </tbody>\n</table>\n</div>"
     },
     "execution_count": 51,
     "metadata": {},
     "output_type": "execute_result"
    }
   ],
   "source": [
    "ted.groupby('event').views.agg(['count', 'mean' ]).sort_values('mean').tail()"
   ],
   "metadata": {
    "collapsed": false,
    "pycharm": {
     "name": "#%%\n"
    }
   }
  },
  {
   "cell_type": "code",
   "execution_count": 52,
   "outputs": [
    {
     "data": {
      "text/plain": "                count          mean        sum\nevent                                         \nTED2006            45  3.274345e+06  147345533\nTED2015            75  2.011017e+06  150826305\nTEDGlobal 2013     66  2.584163e+06  170554736\nTED2014            84  2.072874e+06  174121423\nTED2013            77  2.302700e+06  177307937",
      "text/html": "<div>\n<style scoped>\n    .dataframe tbody tr th:only-of-type {\n        vertical-align: middle;\n    }\n\n    .dataframe tbody tr th {\n        vertical-align: top;\n    }\n\n    .dataframe thead th {\n        text-align: right;\n    }\n</style>\n<table border=\"1\" class=\"dataframe\">\n  <thead>\n    <tr style=\"text-align: right;\">\n      <th></th>\n      <th>count</th>\n      <th>mean</th>\n      <th>sum</th>\n    </tr>\n    <tr>\n      <th>event</th>\n      <th></th>\n      <th></th>\n      <th></th>\n    </tr>\n  </thead>\n  <tbody>\n    <tr>\n      <th>TED2006</th>\n      <td>45</td>\n      <td>3.274345e+06</td>\n      <td>147345533</td>\n    </tr>\n    <tr>\n      <th>TED2015</th>\n      <td>75</td>\n      <td>2.011017e+06</td>\n      <td>150826305</td>\n    </tr>\n    <tr>\n      <th>TEDGlobal 2013</th>\n      <td>66</td>\n      <td>2.584163e+06</td>\n      <td>170554736</td>\n    </tr>\n    <tr>\n      <th>TED2014</th>\n      <td>84</td>\n      <td>2.072874e+06</td>\n      <td>174121423</td>\n    </tr>\n    <tr>\n      <th>TED2013</th>\n      <td>77</td>\n      <td>2.302700e+06</td>\n      <td>177307937</td>\n    </tr>\n  </tbody>\n</table>\n</div>"
     },
     "execution_count": 52,
     "metadata": {},
     "output_type": "execute_result"
    }
   ],
   "source": [
    "ted.groupby('event').views.agg(['count', 'mean' ,'sum']).sort_values('sum').tail()\n"
   ],
   "metadata": {
    "collapsed": false,
    "pycharm": {
     "name": "#%%\n"
    }
   }
  },
  {
   "cell_type": "markdown",
   "source": [
    "## 5.Unpack the ratings data"
   ],
   "metadata": {
    "collapsed": false,
    "pycharm": {
     "name": "#%% md\n"
    }
   }
  },
  {
   "cell_type": "code",
   "execution_count": 54,
   "outputs": [
    {
     "data": {
      "text/plain": "0    [{'id': 7, 'name': 'Funny', 'count': 19645}, {...\n1    [{'id': 7, 'name': 'Funny', 'count': 544}, {'i...\n2    [{'id': 7, 'name': 'Funny', 'count': 964}, {'i...\n3    [{'id': 3, 'name': 'Courageous', 'count': 760}...\n4    [{'id': 9, 'name': 'Ingenious', 'count': 3202}...\nName: ratings, dtype: object"
     },
     "execution_count": 54,
     "metadata": {},
     "output_type": "execute_result"
    }
   ],
   "source": [
    "ted.ratings.head()\n"
   ],
   "metadata": {
    "collapsed": false,
    "pycharm": {
     "name": "#%%\n"
    }
   }
  },
  {
   "cell_type": "code",
   "execution_count": 55,
   "outputs": [
    {
     "data": {
      "text/plain": "\"[{'id': 7, 'name': 'Funny', 'count': 19645}, {'id': 1, 'name': 'Beautiful', 'count': 4573}, {'id': 9, 'name': 'Ingenious', 'count': 6073}, {'id': 3, 'name': 'Courageous', 'count': 3253}, {'id': 11, 'name': 'Longwinded', 'count': 387}, {'id': 2, 'name': 'Confusing', 'count': 242}, {'id': 8, 'name': 'Informative', 'count': 7346}, {'id': 22, 'name': 'Fascinating', 'count': 10581}, {'id': 21, 'name': 'Unconvincing', 'count': 300}, {'id': 24, 'name': 'Persuasive', 'count': 10704}, {'id': 23, 'name': 'Jaw-dropping', 'count': 4439}, {'id': 25, 'name': 'OK', 'count': 1174}, {'id': 26, 'name': 'Obnoxious', 'count': 209}, {'id': 10, 'name': 'Inspiring', 'count': 24924}]\""
     },
     "execution_count": 55,
     "metadata": {},
     "output_type": "execute_result"
    }
   ],
   "source": [
    "ted.loc[0,'ratings']"
   ],
   "metadata": {
    "collapsed": false,
    "pycharm": {
     "name": "#%%\n"
    }
   }
  },
  {
   "cell_type": "code",
   "execution_count": 56,
   "outputs": [],
   "source": [
    "import ast"
   ],
   "metadata": {
    "collapsed": false,
    "pycharm": {
     "name": "#%%\n"
    }
   }
  },
  {
   "cell_type": "code",
   "execution_count": 58,
   "outputs": [
    {
     "data": {
      "text/plain": "[{'id': 7, 'name': 'Funny', 'count': 19645},\n {'id': 1, 'name': 'Beautiful', 'count': 4573},\n {'id': 9, 'name': 'Ingenious', 'count': 6073},\n {'id': 3, 'name': 'Courageous', 'count': 3253},\n {'id': 11, 'name': 'Longwinded', 'count': 387},\n {'id': 2, 'name': 'Confusing', 'count': 242},\n {'id': 8, 'name': 'Informative', 'count': 7346},\n {'id': 22, 'name': 'Fascinating', 'count': 10581},\n {'id': 21, 'name': 'Unconvincing', 'count': 300},\n {'id': 24, 'name': 'Persuasive', 'count': 10704},\n {'id': 23, 'name': 'Jaw-dropping', 'count': 4439},\n {'id': 25, 'name': 'OK', 'count': 1174},\n {'id': 26, 'name': 'Obnoxious', 'count': 209},\n {'id': 10, 'name': 'Inspiring', 'count': 24924}]"
     },
     "execution_count": 58,
     "metadata": {},
     "output_type": "execute_result"
    }
   ],
   "source": [
    "#Magic function to converting a string to a Python container\n",
    "ast.literal_eval(ted.ratings[0])"
   ],
   "metadata": {
    "collapsed": false,
    "pycharm": {
     "name": "#%%\n"
    }
   }
  },
  {
   "cell_type": "code",
   "execution_count": 60,
   "outputs": [],
   "source": [
    "def str_to_list(ratings_str):\n",
    "    return ast.literal_eval(ratings_str)"
   ],
   "metadata": {
    "collapsed": false,
    "pycharm": {
     "name": "#%%\n"
    }
   }
  },
  {
   "cell_type": "code",
   "execution_count": 62,
   "outputs": [
    {
     "data": {
      "text/plain": "0    [{'id': 7, 'name': 'Funny', 'count': 19645}, {...\n1    [{'id': 7, 'name': 'Funny', 'count': 544}, {'i...\n2    [{'id': 7, 'name': 'Funny', 'count': 964}, {'i...\n3    [{'id': 3, 'name': 'Courageous', 'count': 760}...\n4    [{'id': 9, 'name': 'Ingenious', 'count': 3202}...\nName: ratings, dtype: object"
     },
     "execution_count": 62,
     "metadata": {},
     "output_type": "execute_result"
    }
   ],
   "source": [
    "#ted.ratings.apply(str_to_list).head()\n",
    "ted.ratings.apply(ast.literal_eval).head()"
   ],
   "metadata": {
    "collapsed": false,
    "pycharm": {
     "name": "#%%\n"
    }
   }
  },
  {
   "cell_type": "code",
   "execution_count": 63,
   "outputs": [],
   "source": [
    "#Another way of creating new series\n",
    "ted['ratings_list'] = ted.ratings.apply(lambda x : ast.literal_eval(x))"
   ],
   "metadata": {
    "collapsed": false,
    "pycharm": {
     "name": "#%%\n"
    }
   }
  },
  {
   "cell_type": "code",
   "execution_count": 64,
   "outputs": [
    {
     "data": {
      "text/plain": "0    [{'id': 7, 'name': 'Funny', 'count': 19645}, {...\n1    [{'id': 7, 'name': 'Funny', 'count': 544}, {'i...\n2    [{'id': 7, 'name': 'Funny', 'count': 964}, {'i...\n3    [{'id': 3, 'name': 'Courageous', 'count': 760}...\n4    [{'id': 9, 'name': 'Ingenious', 'count': 3202}...\nName: ratings_list, dtype: object"
     },
     "execution_count": 64,
     "metadata": {},
     "output_type": "execute_result"
    }
   ],
   "source": [
    "ted.ratings_list.head()\n"
   ],
   "metadata": {
    "collapsed": false,
    "pycharm": {
     "name": "#%%\n"
    }
   }
  },
  {
   "cell_type": "markdown",
   "source": [
    "## 6. Count the total numbers of ratings received by each talk\n",
    "- Set it to new column named 'num_ratings'"
   ],
   "metadata": {
    "collapsed": false,
    "pycharm": {
     "name": "#%% md\n"
    }
   }
  },
  {
   "cell_type": "code",
   "execution_count": 68,
   "outputs": [],
   "source": [
    "def get_num_ratings(list_of_dicts):\n",
    "    num = 0\n",
    "    for d in list_of_dicts:\n",
    "        num += d['count']\n",
    "\n",
    "    return  num\n",
    "    #return list_of_dicts[0]['count']"
   ],
   "metadata": {
    "collapsed": false,
    "pycharm": {
     "name": "#%%\n"
    }
   }
  },
  {
   "cell_type": "code",
   "execution_count": 69,
   "outputs": [
    {
     "data": {
      "text/plain": "93850"
     },
     "execution_count": 69,
     "metadata": {},
     "output_type": "execute_result"
    }
   ],
   "source": [
    "get_num_ratings(ted.ratings_list[0])\n"
   ],
   "metadata": {
    "collapsed": false,
    "pycharm": {
     "name": "#%%\n"
    }
   }
  },
  {
   "cell_type": "code",
   "execution_count": 71,
   "outputs": [],
   "source": [
    "ted['num_ratings'] = ted.ratings_list.apply(get_num_ratings)"
   ],
   "metadata": {
    "collapsed": false,
    "pycharm": {
     "name": "#%%\n"
    }
   }
  },
  {
   "cell_type": "code",
   "execution_count": 72,
   "outputs": [
    {
     "data": {
      "text/plain": "count     2550.000000\nmean      2436.408235\nstd       4226.795631\nmin         68.000000\n25%        870.750000\n50%       1452.500000\n75%       2506.750000\nmax      93850.000000\nName: num_ratings, dtype: float64"
     },
     "execution_count": 72,
     "metadata": {},
     "output_type": "execute_result"
    }
   ],
   "source": [
    "ted.num_ratings.describe()\n",
    "\n",
    "#Ok, seems the function is correct. Continuing with analysis."
   ],
   "metadata": {
    "collapsed": false,
    "pycharm": {
     "name": "#%%\n"
    }
   }
  },
  {
   "cell_type": "markdown",
   "source": [
    "## 7.Which occupations deliver the funniest TED talks on average?\n",
    "- For each talk, calculate the most frequent rating\n",
    "- For each talk, clean the occupation data so that there's only one occupation per talk"
   ],
   "metadata": {
    "collapsed": false,
    "pycharm": {
     "name": "#%% md\n"
    }
   }
  },
  {
   "cell_type": "markdown",
   "source": [
    "### Step 1: Count the number of funny ratings"
   ],
   "metadata": {
    "collapsed": false,
    "pycharm": {
     "name": "#%% md\n"
    }
   }
  },
  {
   "cell_type": "code",
   "execution_count": 73,
   "outputs": [
    {
     "data": {
      "text/plain": "0    [{'id': 7, 'name': 'Funny', 'count': 19645}, {...\n1    [{'id': 7, 'name': 'Funny', 'count': 544}, {'i...\n2    [{'id': 7, 'name': 'Funny', 'count': 964}, {'i...\n3    [{'id': 3, 'name': 'Courageous', 'count': 760}...\n4    [{'id': 9, 'name': 'Ingenious', 'count': 3202}...\nName: ratings_list, dtype: object"
     },
     "execution_count": 73,
     "metadata": {},
     "output_type": "execute_result"
    }
   ],
   "source": [
    "ted.ratings_list.head()"
   ],
   "metadata": {
    "collapsed": false,
    "pycharm": {
     "name": "#%%\n"
    }
   }
  },
  {
   "cell_type": "code",
   "execution_count": 75,
   "outputs": [
    {
     "data": {
      "text/plain": "True    2550\nName: ratings, dtype: int64"
     },
     "execution_count": 75,
     "metadata": {},
     "output_type": "execute_result"
    }
   ],
   "source": [
    "ted.ratings.str.contains('Funny').value_counts()\n",
    "#This indicates that every talk has a funny rating."
   ],
   "metadata": {
    "collapsed": false,
    "pycharm": {
     "name": "#%%\n"
    }
   }
  },
  {
   "cell_type": "code",
   "execution_count": 76,
   "outputs": [],
   "source": [
    "def get_funny_ratings(list_of_dicts):\n",
    "    for d in list_of_dicts:\n",
    "        if d['name'] == 'Funny':\n",
    "            return d['count']\n"
   ],
   "metadata": {
    "collapsed": false,
    "pycharm": {
     "name": "#%%\n"
    }
   }
  },
  {
   "cell_type": "code",
   "execution_count": 78,
   "outputs": [],
   "source": [
    "ted['funny_ratings'] = ted.ratings_list.apply(get_funny_ratings)"
   ],
   "metadata": {
    "collapsed": false,
    "pycharm": {
     "name": "#%%\n"
    }
   }
  },
  {
   "cell_type": "code",
   "execution_count": 79,
   "outputs": [],
   "source": [
    "ted['funny_rate'] = ted.funny_ratings / ted.num_ratings"
   ],
   "metadata": {
    "collapsed": false,
    "pycharm": {
     "name": "#%%\n"
    }
   }
  },
  {
   "cell_type": "code",
   "execution_count": 81,
   "outputs": [
    {
     "data": {
      "text/plain": "2114            Comedian and writer\n173                        Investor\n747                        Comedian\n1398                       Comedian\n685     Actor, comedian, playwright\nName: speaker_occupation, dtype: object"
     },
     "execution_count": 81,
     "metadata": {},
     "output_type": "execute_result"
    }
   ],
   "source": [
    "#This code matches our intuition that comedians are more funnier than the other speakers.\n",
    "ted.sort_values('funny_rate').speaker_occupation.tail()"
   ],
   "metadata": {
    "collapsed": false,
    "pycharm": {
     "name": "#%%\n"
    }
   }
  },
  {
   "cell_type": "code",
   "execution_count": 82,
   "outputs": [],
   "source": [
    "### Step 2: Analyze the funny rate by occupation"
   ],
   "metadata": {
    "collapsed": false,
    "pycharm": {
     "name": "#%%\n"
    }
   }
  },
  {
   "cell_type": "code",
   "execution_count": 83,
   "outputs": [
    {
     "data": {
      "text/plain": "speaker_occupation\nComedian                       0.512457\nActor, writer                  0.515152\nActor, comedian, playwright    0.558107\nJugglers                       0.566828\nComedian and writer            0.602085\nName: funny_rate, dtype: float64"
     },
     "execution_count": 83,
     "metadata": {},
     "output_type": "execute_result"
    }
   ],
   "source": [
    "ted.groupby('speaker_occupation').funny_rate.mean().sort_values().tail()"
   ],
   "metadata": {
    "collapsed": false,
    "pycharm": {
     "name": "#%%\n"
    }
   }
  },
  {
   "cell_type": "code",
   "execution_count": 84,
   "outputs": [
    {
     "data": {
      "text/plain": "count       2544\nunique      1458\ntop       Writer\nfreq          45\nName: speaker_occupation, dtype: object"
     },
     "execution_count": 84,
     "metadata": {},
     "output_type": "execute_result"
    }
   ],
   "source": [
    "ted.speaker_occupation.describe()"
   ],
   "metadata": {
    "collapsed": false,
    "pycharm": {
     "name": "#%%\n"
    }
   }
  },
  {
   "cell_type": "markdown",
   "source": [
    "### Step 3: Focus on occupations that are well-represented in the data"
   ],
   "metadata": {
    "collapsed": false,
    "pycharm": {
     "name": "#%% md\n"
    }
   }
  },
  {
   "cell_type": "code",
   "execution_count": 86,
   "outputs": [],
   "source": [
    "occupation_counts =  ted.speaker_occupation.value_counts()"
   ],
   "metadata": {
    "collapsed": false,
    "pycharm": {
     "name": "#%%\n"
    }
   }
  },
  {
   "cell_type": "code",
   "execution_count": 89,
   "outputs": [],
   "source": [
    "top_occupations = occupation_counts[occupation_counts>=5].index"
   ],
   "metadata": {
    "collapsed": false,
    "pycharm": {
     "name": "#%%\n"
    }
   }
  },
  {
   "cell_type": "code",
   "execution_count": 91,
   "outputs": [],
   "source": [
    "ted_top_occupations =  ted[ted.speaker_occupation.isin(top_occupations)]"
   ],
   "metadata": {
    "collapsed": false,
    "pycharm": {
     "name": "#%%\n"
    }
   }
  },
  {
   "cell_type": "code",
   "execution_count": 93,
   "outputs": [
    {
     "data": {
      "text/plain": "speaker_occupation\nSurgeon                                       0.002465\nPhysician                                     0.004515\nPhotojournalist                               0.004908\nInvestor and advocate for moral leadership    0.005198\nPhotographer                                  0.007152\n                                                ...   \nData scientist                                0.184076\nProducer                                      0.202531\nSinger/songwriter                             0.252205\nPerformance poet, multimedia artist           0.306468\nComedian                                      0.512457\nName: funny_rate, Length: 68, dtype: float64"
     },
     "execution_count": 93,
     "metadata": {},
     "output_type": "execute_result"
    }
   ],
   "source": [
    "ted_top_occupations.groupby('speaker_occupation').funny_rate.mean().sort_values()"
   ],
   "metadata": {
    "collapsed": false,
    "pycharm": {
     "name": "#%%\n"
    }
   }
  },
  {
   "cell_type": "code",
   "execution_count": null,
   "outputs": [],
   "source": [],
   "metadata": {
    "collapsed": false,
    "pycharm": {
     "name": "#%%\n"
    }
   }
  }
 ],
 "metadata": {
  "kernelspec": {
   "display_name": "Python 3",
   "language": "python",
   "name": "python3"
  },
  "language_info": {
   "codemirror_mode": {
    "name": "ipython",
    "version": 2
   },
   "file_extension": ".py",
   "mimetype": "text/x-python",
   "name": "python",
   "nbconvert_exporter": "python",
   "pygments_lexer": "ipython2",
   "version": "2.7.6"
  }
 },
 "nbformat": 4,
 "nbformat_minor": 0
}