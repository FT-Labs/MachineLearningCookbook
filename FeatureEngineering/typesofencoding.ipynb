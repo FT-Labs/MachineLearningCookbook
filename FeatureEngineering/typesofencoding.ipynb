{
 "cells": [
  {
   "cell_type": "markdown",
   "metadata": {
    "collapsed": true,
    "pycharm": {
     "name": "#%% md\n"
    }
   },
   "source": [
    "## Types Of Encoding\n",
    "\n",
    "- Nominal Encoding\n",
    "- Ordinal Encoding\n",
    "\n",
    "### Nominal Encoding\n",
    "\n",
    "- One hot encoding\n",
    "- One hot encoding with many categorical variables\n",
    "- Mean encoding\n",
    "\n",
    "### Ordinal Encoding\n",
    "\n",
    "- Label encoding\n",
    "- Target guided ordinal encoding\n",
    "\n",
    "1) One hot encoding\n",
    "\n",
    "-State-\n",
    "[Germany,\n",
    " France,\n",
    " Spain]\n",
    "\n",
    "-> To perform one hot encoding in these 3 strings, you need to create 3 new columns\n"
   ]
  },
  {
   "cell_type": "code",
   "execution_count": null,
   "outputs": [],
   "source": [],
   "metadata": {
    "collapsed": false,
    "pycharm": {
     "name": "#%%\n"
    }
   }
  }
 ],
 "metadata": {
  "kernelspec": {
   "display_name": "Python 3",
   "language": "python",
   "name": "python3"
  },
  "language_info": {
   "codemirror_mode": {
    "name": "ipython",
    "version": 2
   },
   "file_extension": ".py",
   "mimetype": "text/x-python",
   "name": "python",
   "nbconvert_exporter": "python",
   "pygments_lexer": "ipython2",
   "version": "2.7.6"
  }
 },
 "nbformat": 4,
 "nbformat_minor": 0
}